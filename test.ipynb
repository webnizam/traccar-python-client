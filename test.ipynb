{
 "cells": [
  {
   "cell_type": "code",
   "execution_count": 2,
   "metadata": {},
   "outputs": [],
   "source": [
    "import cereal.messaging as messaging\n",
    "import logging\n",
    "from rich import print\n",
    "import time\n",
    "# Setup logging\n",
    "logging.basicConfig(\n",
    "    level=logging.INFO, format=\"%(asctime)s - %(levelname)s - %(message)s\"\n",
    ")"
   ]
  },
  {
   "cell_type": "code",
   "execution_count": 3,
   "metadata": {},
   "outputs": [],
   "source": [
    "broadcasts = [\n",
    "    'carState',\n",
    "    'deviceState',\n",
    "    'ubloxRaw',\n",
    "    'liveLocationKalman',\n",
    "    'gpsLocation',\n",
    "    'gpsLocationExternal'\n",
    "]"
   ]
  },
  {
   "cell_type": "code",
   "execution_count": 4,
   "metadata": {},
   "outputs": [
    {
     "data": {
      "text/html": [
       "<pre style=\"white-space:pre;overflow-x:auto;line-height:normal;font-family:Menlo,'DejaVu Sans Mono',consolas,'Courier New',monospace\">carState\n",
       "</pre>\n"
      ],
      "text/plain": [
       "carState\n"
      ]
     },
     "metadata": {},
     "output_type": "display_data"
    },
    {
     "data": {
      "text/html": [
       "<pre style=\"white-space:pre;overflow-x:auto;line-height:normal;font-family:Menlo,'DejaVu Sans Mono',consolas,'Courier New',monospace\"><span style=\"color: #008080; text-decoration-color: #008080; font-weight: bold\">0</span>\n",
       "</pre>\n"
      ],
      "text/plain": [
       "\u001b[1;36m0\u001b[0m\n"
      ]
     },
     "metadata": {},
     "output_type": "display_data"
    },
    {
     "data": {
      "text/html": [
       "<pre style=\"white-space:pre;overflow-x:auto;line-height:normal;font-family:Menlo,'DejaVu Sans Mono',consolas,'Courier New',monospace\">deviceState\n",
       "</pre>\n"
      ],
      "text/plain": [
       "deviceState\n"
      ]
     },
     "metadata": {},
     "output_type": "display_data"
    },
    {
     "data": {
      "text/html": [
       "<pre style=\"white-space:pre;overflow-x:auto;line-height:normal;font-family:Menlo,'DejaVu Sans Mono',consolas,'Courier New',monospace\"><span style=\"color: #008080; text-decoration-color: #008080; font-weight: bold\">0</span>\n",
       "</pre>\n"
      ],
      "text/plain": [
       "\u001b[1;36m0\u001b[0m\n"
      ]
     },
     "metadata": {},
     "output_type": "display_data"
    },
    {
     "data": {
      "text/html": [
       "<pre style=\"white-space:pre;overflow-x:auto;line-height:normal;font-family:Menlo,'DejaVu Sans Mono',consolas,'Courier New',monospace\">ubloxRaw\n",
       "</pre>\n"
      ],
      "text/plain": [
       "ubloxRaw\n"
      ]
     },
     "metadata": {},
     "output_type": "display_data"
    },
    {
     "data": {
      "text/html": [
       "<pre style=\"white-space:pre;overflow-x:auto;line-height:normal;font-family:Menlo,'DejaVu Sans Mono',consolas,'Courier New',monospace\"><span style=\"color: #008080; text-decoration-color: #008080; font-weight: bold\">0</span>\n",
       "</pre>\n"
      ],
      "text/plain": [
       "\u001b[1;36m0\u001b[0m\n"
      ]
     },
     "metadata": {},
     "output_type": "display_data"
    },
    {
     "data": {
      "text/html": [
       "<pre style=\"white-space:pre;overflow-x:auto;line-height:normal;font-family:Menlo,'DejaVu Sans Mono',consolas,'Courier New',monospace\">liveLocationKalman\n",
       "</pre>\n"
      ],
      "text/plain": [
       "liveLocationKalman\n"
      ]
     },
     "metadata": {},
     "output_type": "display_data"
    },
    {
     "data": {
      "text/html": [
       "<pre style=\"white-space:pre;overflow-x:auto;line-height:normal;font-family:Menlo,'DejaVu Sans Mono',consolas,'Courier New',monospace\"><span style=\"color: #008080; text-decoration-color: #008080; font-weight: bold\">0</span>\n",
       "</pre>\n"
      ],
      "text/plain": [
       "\u001b[1;36m0\u001b[0m\n"
      ]
     },
     "metadata": {},
     "output_type": "display_data"
    },
    {
     "data": {
      "text/html": [
       "<pre style=\"white-space:pre;overflow-x:auto;line-height:normal;font-family:Menlo,'DejaVu Sans Mono',consolas,'Courier New',monospace\">gpsLocation\n",
       "</pre>\n"
      ],
      "text/plain": [
       "gpsLocation\n"
      ]
     },
     "metadata": {},
     "output_type": "display_data"
    },
    {
     "data": {
      "text/html": [
       "<pre style=\"white-space:pre;overflow-x:auto;line-height:normal;font-family:Menlo,'DejaVu Sans Mono',consolas,'Courier New',monospace\"><span style=\"color: #008080; text-decoration-color: #008080; font-weight: bold\">0</span>\n",
       "</pre>\n"
      ],
      "text/plain": [
       "\u001b[1;36m0\u001b[0m\n"
      ]
     },
     "metadata": {},
     "output_type": "display_data"
    },
    {
     "data": {
      "text/html": [
       "<pre style=\"white-space:pre;overflow-x:auto;line-height:normal;font-family:Menlo,'DejaVu Sans Mono',consolas,'Courier New',monospace\">gpsLocationExternal\n",
       "</pre>\n"
      ],
      "text/plain": [
       "gpsLocationExternal\n"
      ]
     },
     "metadata": {},
     "output_type": "display_data"
    },
    {
     "data": {
      "text/html": [
       "<pre style=\"white-space:pre;overflow-x:auto;line-height:normal;font-family:Menlo,'DejaVu Sans Mono',consolas,'Courier New',monospace\"><span style=\"color: #008080; text-decoration-color: #008080; font-weight: bold\">0</span>\n",
       "</pre>\n"
      ],
      "text/plain": [
       "\u001b[1;36m0\u001b[0m\n"
      ]
     },
     "metadata": {},
     "output_type": "display_data"
    }
   ],
   "source": [
    "for broad_str in broadcasts:\n",
    "    print(broad_str)\n",
    "    sub_sock = messaging.SubMaster([broad_str])\n",
    "    res_str = sub_sock.recv_frame[broad_str]\n",
    "    print(res_str)"
   ]
  },
  {
   "cell_type": "code",
   "execution_count": 5,
   "metadata": {},
   "outputs": [
    {
     "data": {
      "text/html": [
       "<pre style=\"white-space:pre;overflow-x:auto;line-height:normal;font-family:Menlo,'DejaVu Sans Mono',consolas,'Courier New',monospace\">carState: <span style=\"font-weight: bold\">(</span> vEgo = <span style=\"color: #008080; text-decoration-color: #008080; font-weight: bold\">0</span>,\n",
       "  wheelSpeeds = <span style=\"font-weight: bold\">(</span>fl = <span style=\"color: #008080; text-decoration-color: #008080; font-weight: bold\">0</span>, fr = <span style=\"color: #008080; text-decoration-color: #008080; font-weight: bold\">0</span>, rl = <span style=\"color: #008080; text-decoration-color: #008080; font-weight: bold\">0</span>, rr = <span style=\"color: #008080; text-decoration-color: #008080; font-weight: bold\">0</span><span style=\"font-weight: bold\">)</span>,\n",
       "  gas = <span style=\"color: #008080; text-decoration-color: #008080; font-weight: bold\">0</span>,\n",
       "  gasPressed = false,\n",
       "  brake = <span style=\"color: #008080; text-decoration-color: #008080; font-weight: bold\">-0.015625</span>,\n",
       "  brakePressed = false,\n",
       "  steeringAngleDeg = <span style=\"color: #008080; text-decoration-color: #008080; font-weight: bold\">1</span>,\n",
       "  steeringTorque = <span style=\"color: #008080; text-decoration-color: #008080; font-weight: bold\">-186</span>,\n",
       "  steeringPressed = false,\n",
       "  cruiseState = <span style=\"font-weight: bold\">(</span>\n",
       "    enabled = false,\n",
       "    speed = <span style=\"color: #008080; text-decoration-color: #008080; font-weight: bold\">0</span>,\n",
       "    available = true,\n",
       "    speedOffset = <span style=\"color: #008080; text-decoration-color: #008080; font-weight: bold\">0</span>,\n",
       "    standstill = false,\n",
       "    nonAdaptive = false,\n",
       "    speedCluster = <span style=\"color: #008080; text-decoration-color: #008080; font-weight: bold\">0</span> <span style=\"font-weight: bold\">)</span>,\n",
       "  buttonEvents = <span style=\"font-weight: bold\">[]</span>,\n",
       "  events = <span style=\"font-weight: bold\">[</span>\n",
       "    <span style=\"font-weight: bold\">(</span> name = wrongGear,\n",
       "      enable = false,\n",
       "      noEntry = true,\n",
       "      warning = false,\n",
       "      userDisable = false,\n",
       "      softDisable = true,\n",
       "      immediateDisable = false,\n",
       "      preEnable = false,\n",
       "      permanent = false,\n",
       "      overrideLongitudinal = false,\n",
       "      overrideLateral = false <span style=\"font-weight: bold\">)</span>,\n",
       "    <span style=\"font-weight: bold\">(</span> name = seatbeltNotLatched,\n",
       "      enable = false,\n",
       "      noEntry = true,\n",
       "      warning = false,\n",
       "      userDisable = false,\n",
       "      softDisable = true,\n",
       "      immediateDisable = false,\n",
       "      preEnable = false,\n",
       "      permanent = false,\n",
       "      overrideLongitudinal = false,\n",
       "      overrideLateral = false <span style=\"font-weight: bold\">)</span>,\n",
       "    <span style=\"font-weight: bold\">(</span> name = speedTooLow,\n",
       "      enable = false,\n",
       "      noEntry = false,\n",
       "      warning = false,\n",
       "      userDisable = false,\n",
       "      softDisable = false,\n",
       "      immediateDisable = true,\n",
       "      preEnable = false,\n",
       "      permanent = false,\n",
       "      overrideLongitudinal = false,\n",
       "      overrideLateral = false <span style=\"font-weight: bold\">)</span>,\n",
       "    <span style=\"font-weight: bold\">(</span> name = parkBrake,\n",
       "      enable = false,\n",
       "      noEntry = true,\n",
       "      warning = false,\n",
       "      userDisable = true,\n",
       "      softDisable = false,\n",
       "      immediateDisable = false,\n",
       "      preEnable = false,\n",
       "      permanent = false,\n",
       "      overrideLongitudinal = false,\n",
       "      overrideLateral = false <span style=\"font-weight: bold\">)</span> <span style=\"font-weight: bold\">]</span>,\n",
       "  gearShifter = park,\n",
       "  steeringRateDeg = <span style=\"color: #008080; text-decoration-color: #008080; font-weight: bold\">0</span>,\n",
       "  aEgo = <span style=\"color: #008080; text-decoration-color: #008080; font-weight: bold\">0</span>,\n",
       "  vEgoRaw = <span style=\"color: #008080; text-decoration-color: #008080; font-weight: bold\">0</span>,\n",
       "  standstill = true,\n",
       "  brakeLightsDEPRECATED = false,\n",
       "  leftBlinker = false,\n",
       "  rightBlinker = false,\n",
       "  yawRate = <span style=\"color: #008080; text-decoration-color: #008080; font-weight: bold\">0</span>,\n",
       "  genericToggle = false,\n",
       "  doorOpen = false,\n",
       "  seatbeltUnlatched = true,\n",
       "  canValid = true,\n",
       "  steeringTorqueEps = <span style=\"color: #008080; text-decoration-color: #008080; font-weight: bold\">1</span>,\n",
       "  clutchPressed = false,\n",
       "  steeringRateLimitedDEPRECATED = false,\n",
       "  stockAeb = false,\n",
       "  stockFcw = false,\n",
       "  espDisabled = false,\n",
       "  leftBlindspot = false,\n",
       "  rightBlindspot = false,\n",
       "  steerFaultTemporary = false,\n",
       "  steerFaultPermanent = false,\n",
       "  steeringAngleOffsetDeg = <span style=\"color: #008080; text-decoration-color: #008080; font-weight: bold\">0</span>,\n",
       "  brakeHoldActive = false,\n",
       "  parkingBrake = true,\n",
       "  canTimeout = false,\n",
       "  fuelGauge = <span style=\"color: #008080; text-decoration-color: #008080; font-weight: bold\">0</span>,\n",
       "  accFaulted = false,\n",
       "  charging = false,\n",
       "  vEgoCluster = <span style=\"color: #008080; text-decoration-color: #008080; font-weight: bold\">0</span>,\n",
       "  regenBraking = false,\n",
       "  engineRpm = <span style=\"color: #008080; text-decoration-color: #008080; font-weight: bold\">0</span>,\n",
       "  carFaultedNonCritical = false,\n",
       "  canErrorCounter = <span style=\"color: #008080; text-decoration-color: #008080; font-weight: bold\">0</span>,\n",
       "  canRcvTimeoutDEPRECATED = false,\n",
       "  cumLagMs = <span style=\"color: #008080; text-decoration-color: #008080; font-weight: bold\">98.068443</span> <span style=\"font-weight: bold\">)</span>\n",
       "</pre>\n"
      ],
      "text/plain": [
       "carState: \u001b[1m(\u001b[0m vEgo = \u001b[1;36m0\u001b[0m,\n",
       "  wheelSpeeds = \u001b[1m(\u001b[0mfl = \u001b[1;36m0\u001b[0m, fr = \u001b[1;36m0\u001b[0m, rl = \u001b[1;36m0\u001b[0m, rr = \u001b[1;36m0\u001b[0m\u001b[1m)\u001b[0m,\n",
       "  gas = \u001b[1;36m0\u001b[0m,\n",
       "  gasPressed = false,\n",
       "  brake = \u001b[1;36m-0.015625\u001b[0m,\n",
       "  brakePressed = false,\n",
       "  steeringAngleDeg = \u001b[1;36m1\u001b[0m,\n",
       "  steeringTorque = \u001b[1;36m-186\u001b[0m,\n",
       "  steeringPressed = false,\n",
       "  cruiseState = \u001b[1m(\u001b[0m\n",
       "    enabled = false,\n",
       "    speed = \u001b[1;36m0\u001b[0m,\n",
       "    available = true,\n",
       "    speedOffset = \u001b[1;36m0\u001b[0m,\n",
       "    standstill = false,\n",
       "    nonAdaptive = false,\n",
       "    speedCluster = \u001b[1;36m0\u001b[0m \u001b[1m)\u001b[0m,\n",
       "  buttonEvents = \u001b[1m[\u001b[0m\u001b[1m]\u001b[0m,\n",
       "  events = \u001b[1m[\u001b[0m\n",
       "    \u001b[1m(\u001b[0m name = wrongGear,\n",
       "      enable = false,\n",
       "      noEntry = true,\n",
       "      warning = false,\n",
       "      userDisable = false,\n",
       "      softDisable = true,\n",
       "      immediateDisable = false,\n",
       "      preEnable = false,\n",
       "      permanent = false,\n",
       "      overrideLongitudinal = false,\n",
       "      overrideLateral = false \u001b[1m)\u001b[0m,\n",
       "    \u001b[1m(\u001b[0m name = seatbeltNotLatched,\n",
       "      enable = false,\n",
       "      noEntry = true,\n",
       "      warning = false,\n",
       "      userDisable = false,\n",
       "      softDisable = true,\n",
       "      immediateDisable = false,\n",
       "      preEnable = false,\n",
       "      permanent = false,\n",
       "      overrideLongitudinal = false,\n",
       "      overrideLateral = false \u001b[1m)\u001b[0m,\n",
       "    \u001b[1m(\u001b[0m name = speedTooLow,\n",
       "      enable = false,\n",
       "      noEntry = false,\n",
       "      warning = false,\n",
       "      userDisable = false,\n",
       "      softDisable = false,\n",
       "      immediateDisable = true,\n",
       "      preEnable = false,\n",
       "      permanent = false,\n",
       "      overrideLongitudinal = false,\n",
       "      overrideLateral = false \u001b[1m)\u001b[0m,\n",
       "    \u001b[1m(\u001b[0m name = parkBrake,\n",
       "      enable = false,\n",
       "      noEntry = true,\n",
       "      warning = false,\n",
       "      userDisable = true,\n",
       "      softDisable = false,\n",
       "      immediateDisable = false,\n",
       "      preEnable = false,\n",
       "      permanent = false,\n",
       "      overrideLongitudinal = false,\n",
       "      overrideLateral = false \u001b[1m)\u001b[0m \u001b[1m]\u001b[0m,\n",
       "  gearShifter = park,\n",
       "  steeringRateDeg = \u001b[1;36m0\u001b[0m,\n",
       "  aEgo = \u001b[1;36m0\u001b[0m,\n",
       "  vEgoRaw = \u001b[1;36m0\u001b[0m,\n",
       "  standstill = true,\n",
       "  brakeLightsDEPRECATED = false,\n",
       "  leftBlinker = false,\n",
       "  rightBlinker = false,\n",
       "  yawRate = \u001b[1;36m0\u001b[0m,\n",
       "  genericToggle = false,\n",
       "  doorOpen = false,\n",
       "  seatbeltUnlatched = true,\n",
       "  canValid = true,\n",
       "  steeringTorqueEps = \u001b[1;36m1\u001b[0m,\n",
       "  clutchPressed = false,\n",
       "  steeringRateLimitedDEPRECATED = false,\n",
       "  stockAeb = false,\n",
       "  stockFcw = false,\n",
       "  espDisabled = false,\n",
       "  leftBlindspot = false,\n",
       "  rightBlindspot = false,\n",
       "  steerFaultTemporary = false,\n",
       "  steerFaultPermanent = false,\n",
       "  steeringAngleOffsetDeg = \u001b[1;36m0\u001b[0m,\n",
       "  brakeHoldActive = false,\n",
       "  parkingBrake = true,\n",
       "  canTimeout = false,\n",
       "  fuelGauge = \u001b[1;36m0\u001b[0m,\n",
       "  accFaulted = false,\n",
       "  charging = false,\n",
       "  vEgoCluster = \u001b[1;36m0\u001b[0m,\n",
       "  regenBraking = false,\n",
       "  engineRpm = \u001b[1;36m0\u001b[0m,\n",
       "  carFaultedNonCritical = false,\n",
       "  canErrorCounter = \u001b[1;36m0\u001b[0m,\n",
       "  canRcvTimeoutDEPRECATED = false,\n",
       "  cumLagMs = \u001b[1;36m98.068443\u001b[0m \u001b[1m)\u001b[0m\n"
      ]
     },
     "metadata": {},
     "output_type": "display_data"
    }
   ],
   "source": [
    "# Create the SubMaster object and subscribe to the broadcasts\n",
    "sm = messaging.SubMaster(broadcasts)\n",
    "\n",
    "while True:\n",
    "    sm.update(1000)  # Update the data, 1000ms timeout (1 second)\n",
    "    \n",
    "    if sm.updated['gpsLocation']:\n",
    "        gpsLocation = sm['gpsLocation']\n",
    "        print(\"gpsLocation:\", gpsLocation)\n",
    "    \n",
    "    if sm.updated['gpsLocationExternal']:\n",
    "        gpsLocationExternal = sm['gpsLocationExternal']\n",
    "        print(\"gpsLocationExternal:\", gpsLocationExternal)\n",
    "    \n",
    "    if sm.updated['ubloxRaw']:\n",
    "        ubloxRaw = sm['ubloxRaw']\n",
    "        print(\"ubloxRaw:\", ubloxRaw)\n",
    "    \n",
    "    if sm.updated['liveLocationKalman']:\n",
    "        liveLocationKalman = sm['liveLocationKalman']\n",
    "        print(\"liveLocationKalman:\", liveLocationKalman)\n",
    "    \n",
    "    if sm.updated['deviceState']:\n",
    "        deviceState = sm['deviceState']\n",
    "        print(\"deviceState:\", deviceState)\n",
    "    \n",
    "    if sm.updated['carState']:\n",
    "        carState = sm['carState']\n",
    "        print(\"carState:\", carState)\n",
    "    \n",
    "    time.sleep(1)\n",
    "    break\n"
   ]
  },
  {
   "cell_type": "code",
   "execution_count": null,
   "metadata": {},
   "outputs": [],
   "source": []
  }
 ],
 "metadata": {
  "kernelspec": {
   "display_name": "3.11.4",
   "language": "python",
   "name": "python3"
  },
  "language_info": {
   "codemirror_mode": {
    "name": "ipython",
    "version": 3
   },
   "file_extension": ".py",
   "mimetype": "text/x-python",
   "name": "python",
   "nbconvert_exporter": "python",
   "pygments_lexer": "ipython3",
   "version": "3.11.4"
  }
 },
 "nbformat": 4,
 "nbformat_minor": 2
}
